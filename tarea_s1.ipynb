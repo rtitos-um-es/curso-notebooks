{
 "cells": [
  {
   "cell_type": "markdown",
   "metadata": {},
   "source": [
    "# Trabajo autónomo del alumnado tutorizado (I)"
   ]
  },
  {
   "cell_type": "markdown",
   "metadata": {},
   "source": [
    "### Diseño, implementación, publicación y compartición de una serie de notebooks aplicados a una asignatura\n",
    "\n",
    "- Para ello la tarea se ha dividido en los siguientes puntos:\n",
    "\n",
    "1. Fase de diseño:\n",
    "  - ¿Cómo se pueden aplicar los notebooks a la asignatura?\n",
    "  - ¿Qué recursos interactivos se pueden embeber en los notebooks?\n",
    "  - ¿Qué ejemplos y ejercicios se pueden plantear?\n",
    "\n",
    "2. Instalación, configuración y puesta en marcha de Jupyter Notebook/Lab.\n",
    "\n",
    "3. Creación de un notebook básico:\n",
    "  - Celdas en markdown con apuntes y recursos online.\n",
    "  - Celdas de código Python con ejemplos.\n",
    "\n",
    "4. Almacenamiento del notebook en un repositorio.\n",
    "\n",
    "5. Publicación del notebook implementado con Binder."
   ]
  },
  {
   "cell_type": "markdown",
   "metadata": {},
   "source": [
    "### Se pide:\n",
    "\n",
    "Rellenar este notebook con las direcciones de los notebooks creados, repositorios Git y dirección Binder. Opcionalmente, adjuntarle capturas de pantallas.\n",
    "\n",
    "El notebook resultante se puede subir a la tarea del Aula Virtual"
   ]
  },
  {
   "cell_type": "markdown",
   "metadata": {},
   "source": [
    "## Diseño"
   ]
  },
  {
   "cell_type": "markdown",
   "metadata": {},
   "source": [
    "### ¿Cómo se pueden aplicar los notebooks a la asignatura?"
   ]
  },
  {
   "cell_type": "markdown",
   "metadata": {},
   "source": [
    "En la asignatura de Fundamentos de Computadores del Grado en Ciencia e Ingeniería de Datos, podemos usar los notebooks en el desarrollo de las prácticas de la asignatura. Si bien se utilizará el propio terminal de Linux para mostrar ejemplos de comandos y familiarizarse con la interfaz de línea de comandos, los notebooks son apropiados como forma de plantear los ejercicios asociados a los diferentes boletines de prácticas relacionadas con el manejo del shell."
   ]
  },
  {
   "cell_type": "markdown",
   "metadata": {},
   "source": [
    "Nótese que, aunque cada boletín de prácticas (actualmente en PDF) podría convertirse en un notebook interactivo, de forma que los alumnos puedan observar el comportamiento de los diferentes comandos sin necesidad de ejecutarlos por ellos mismos, en esta asignatura se busca precisamente que adquieran una competencia básica en el uso del shell, para lo cual es imprescindible trabajar directamente sobre un terminal y no sobre un notebook."
   ]
  },
  {
   "cell_type": "markdown",
   "metadata": {},
   "source": [
    "En lo que se refiere a la realización de los ejercicios de prácticas de cada boletín, cuya entrega semanal a través de un repositorio de git compartido con el profesor constituye la herramienta de evaluación continua, los notebooks son una herramienta ideal, por dos razones. En primer lugar, porque el profesor puede proporcionar en otro notebook con las celdas ya evaluadas las salidas esperadas resultantes de ejecutar cada uno de los comandos que se piden en cada ejercicio. En segundo lugar, porque el propio notebook resulta un formato ideal para que alumno entregue sus soluciones a los ejercicios propuestos de una forma más sencilla que mediante un fichero de texto plano o un fichero con la captura de toda la salida del terminal (p.ej. mediante el programa script). De hecho, está previsto que el examen de prácticas del próximo 22 de Diciembre se lleve a cabo en este formato, de forma que los alumnos deberán responder a los ejercicios planteados con los comandos adecuados en el propio notebook, así como responder a ciertas preguntas con la información producida por la ejecución de diversos programas de ejemplo y otros comandos dados."
   ]
  },
  {
   "cell_type": "markdown",
   "metadata": {},
   "source": [
    "### ¿Qué recursos interactivos se pueden embeber en los notebooks?"
   ]
  },
  {
   "cell_type": "markdown",
   "metadata": {},
   "source": [
    "En el caso de la asignatura de FC, la principal utilidad está en la ejecución interactiva de comandos del shell a modo de ejemplo, para ilustrar el comportamiento de cada uno de ellos, sus opciones, la forma de invocarlo, etc."
   ]
  },
  {
   "cell_type": "markdown",
   "metadata": {},
   "source": [
    "### ¿Qué ejemplos y ejercicios se pueden plantear?"
   ]
  },
  {
   "cell_type": "markdown",
   "metadata": {},
   "source": [
    "Todos los ejercicios que tienen que ver tanto con el uso de git como de los comandos básicos de manipulación del sistema de ficheros, monitorización del sistema, instalación de dependencias, etc."
   ]
  },
  {
   "cell_type": "markdown",
   "metadata": {},
   "source": [
    "## Instalación "
   ]
  },
  {
   "cell_type": "markdown",
   "metadata": {},
   "source": [
    "En el caso que consideramos, únicamente es necesario instalar el kernel de bash:"
   ]
  },
  {
   "cell_type": "code",
   "execution_count": 1,
   "metadata": {},
   "outputs": [
    {
     "name": "stdout",
     "output_type": "stream",
     "text": [
      "Defaulting to user installation because normal site-packages is not writeable\n",
      "Requirement already satisfied: bash_kernel in /home/rtitos/.local/lib/python3.10/site-packages (0.8.0)\n",
      "Requirement already satisfied: ipykernel in /home/rtitos/.local/lib/python3.10/site-packages (from bash_kernel) (6.17.0)\n",
      "Requirement already satisfied: pexpect>=4.0 in /usr/lib/python3/dist-packages (from bash_kernel) (4.8.0)\n",
      "Requirement already satisfied: pyzmq>=17 in /home/rtitos/.local/lib/python3.10/site-packages (from ipykernel->bash_kernel) (24.0.1)\n",
      "Requirement already satisfied: debugpy>=1.0 in /home/rtitos/.local/lib/python3.10/site-packages (from ipykernel->bash_kernel) (1.6.3)\n",
      "Requirement already satisfied: matplotlib-inline>=0.1 in /home/rtitos/.local/lib/python3.10/site-packages (from ipykernel->bash_kernel) (0.1.6)\n",
      "Requirement already satisfied: nest-asyncio in /home/rtitos/.local/lib/python3.10/site-packages (from ipykernel->bash_kernel) (1.5.6)\n",
      "Requirement already satisfied: ipython>=7.23.1 in /home/rtitos/.local/lib/python3.10/site-packages (from ipykernel->bash_kernel) (8.6.0)\n",
      "Requirement already satisfied: tornado>=6.1 in /home/rtitos/.local/lib/python3.10/site-packages (from ipykernel->bash_kernel) (6.2)\n",
      "Requirement already satisfied: traitlets>=5.1.0 in /home/rtitos/.local/lib/python3.10/site-packages (from ipykernel->bash_kernel) (5.5.0)\n",
      "Requirement already satisfied: packaging in /home/rtitos/.local/lib/python3.10/site-packages (from ipykernel->bash_kernel) (21.3)\n",
      "Requirement already satisfied: jupyter-client>=6.1.12 in /home/rtitos/.local/lib/python3.10/site-packages (from ipykernel->bash_kernel) (7.4.4)\n",
      "Requirement already satisfied: psutil in /home/rtitos/.local/lib/python3.10/site-packages (from ipykernel->bash_kernel) (5.9.4)\n",
      "Requirement already satisfied: backcall in /home/rtitos/.local/lib/python3.10/site-packages (from ipython>=7.23.1->ipykernel->bash_kernel) (0.2.0)\n",
      "Requirement already satisfied: jedi>=0.16 in /home/rtitos/.local/lib/python3.10/site-packages (from ipython>=7.23.1->ipykernel->bash_kernel) (0.18.1)\n",
      "Requirement already satisfied: prompt-toolkit<3.1.0,>3.0.1 in /home/rtitos/.local/lib/python3.10/site-packages (from ipython>=7.23.1->ipykernel->bash_kernel) (3.0.32)\n",
      "Requirement already satisfied: pygments>=2.4.0 in /home/rtitos/.local/lib/python3.10/site-packages (from ipython>=7.23.1->ipykernel->bash_kernel) (2.13.0)\n",
      "Requirement already satisfied: stack-data in /home/rtitos/.local/lib/python3.10/site-packages (from ipython>=7.23.1->ipykernel->bash_kernel) (0.6.0)\n",
      "Requirement already satisfied: decorator in /home/rtitos/.local/lib/python3.10/site-packages (from ipython>=7.23.1->ipykernel->bash_kernel) (5.1.1)\n",
      "Requirement already satisfied: pickleshare in /home/rtitos/.local/lib/python3.10/site-packages (from ipython>=7.23.1->ipykernel->bash_kernel) (0.7.5)\n",
      "Requirement already satisfied: entrypoints in /home/rtitos/.local/lib/python3.10/site-packages (from jupyter-client>=6.1.12->ipykernel->bash_kernel) (0.4)\n",
      "Requirement already satisfied: jupyter-core>=4.9.2 in /home/rtitos/.local/lib/python3.10/site-packages (from jupyter-client>=6.1.12->ipykernel->bash_kernel) (4.11.2)\n",
      "Requirement already satisfied: python-dateutil>=2.8.2 in /home/rtitos/.local/lib/python3.10/site-packages (from jupyter-client>=6.1.12->ipykernel->bash_kernel) (2.8.2)\n",
      "Requirement already satisfied: pyparsing!=3.0.5,>=2.0.2 in /usr/lib/python3/dist-packages (from packaging->ipykernel->bash_kernel) (2.4.7)\n",
      "Requirement already satisfied: parso<0.9.0,>=0.8.0 in /home/rtitos/.local/lib/python3.10/site-packages (from jedi>=0.16->ipython>=7.23.1->ipykernel->bash_kernel) (0.8.3)\n",
      "Requirement already satisfied: wcwidth in /home/rtitos/.local/lib/python3.10/site-packages (from prompt-toolkit<3.1.0,>3.0.1->ipython>=7.23.1->ipykernel->bash_kernel) (0.2.5)\n",
      "Requirement already satisfied: six>=1.5 in /usr/lib/python3/dist-packages (from python-dateutil>=2.8.2->jupyter-client>=6.1.12->ipykernel->bash_kernel) (1.16.0)\n",
      "Requirement already satisfied: pure-eval in /home/rtitos/.local/lib/python3.10/site-packages (from stack-data->ipython>=7.23.1->ipykernel->bash_kernel) (0.2.2)\n",
      "Requirement already satisfied: asttokens>=2.1.0 in /home/rtitos/.local/lib/python3.10/site-packages (from stack-data->ipython>=7.23.1->ipykernel->bash_kernel) (2.1.0)\n",
      "Requirement already satisfied: executing>=1.2.0 in /home/rtitos/.local/lib/python3.10/site-packages (from stack-data->ipython>=7.23.1->ipykernel->bash_kernel) (1.2.0)\n",
      "Installing IPython kernel spec\n"
     ]
    }
   ],
   "source": [
    "pip3 install bash_kernel && python3 -m bash_kernel.install"
   ]
  },
  {
   "cell_type": "markdown",
   "metadata": {},
   "source": [
    "Tras ejecutar la celda anterior en un terminal, debemos reiniciar Jupyter Notebook y proceder a seleccionar el kernel Bash (Menú Kernel->Change Kernel->Bash):"
   ]
  },
  {
   "cell_type": "markdown",
   "metadata": {},
   "source": [
    "## Creación de un notebook básico"
   ]
  },
  {
   "cell_type": "markdown",
   "metadata": {},
   "source": [
    "El notebook que he creado podría ser un modelo de examen de prácticas para la asignatura es [este](notebook-bash-comandos.ipynb)"
   ]
  },
  {
   "cell_type": "markdown",
   "metadata": {},
   "source": [
    "## Almacenamiento del notebook en un repositorio"
   ]
  },
  {
   "cell_type": "markdown",
   "metadata": {},
   "source": [
    "El notebook está disponible en [esta URL](https://github.com/rtitos-um-es/curso-notebooks.git)"
   ]
  },
  {
   "cell_type": "markdown",
   "metadata": {},
   "source": [
    "## Publicación del notebook con Binder"
   ]
  },
  {
   "cell_type": "markdown",
   "metadata": {},
   "source": [
    "[![Binder](https://mybinder.org/badge_logo.svg)](https://mybinder.org/v2/gh/rtitos-um-es/curso-notebooks/main?labpath=tarea_s1.ipynb)"
   ]
  }
 ],
 "metadata": {
  "kernelspec": {
   "display_name": "Bash",
   "language": "bash",
   "name": "bash"
  },
  "language_info": {
   "codemirror_mode": "shell",
   "file_extension": ".sh",
   "mimetype": "text/x-sh",
   "name": "bash"
  }
 },
 "nbformat": 4,
 "nbformat_minor": 4
}
