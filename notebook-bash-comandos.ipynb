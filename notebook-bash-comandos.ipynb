{
 "cells": [
  {
   "cell_type": "markdown",
   "id": "c3be691b",
   "metadata": {},
   "source": [
    "# Examen de Fundamentos de Computadores\n",
    "\n",
    "_Grado en Ciencia e Ingeniería de Datos - Facultad de Informática - Universidad de Murcia_\n",
    "\n",
    "**22 de Diciembre de 2022**\n"
   ]
  },
  {
   "cell_type": "code",
   "execution_count": 1,
   "id": "80ffe460",
   "metadata": {},
   "outputs": [],
   "source": [
    "#pip3 install bash_kernel && python3 -m bash_kernel.install"
   ]
  },
  {
   "cell_type": "code",
   "execution_count": 2,
   "id": "4fdc7288",
   "metadata": {},
   "outputs": [],
   "source": [
    "git config --global user.email \"you@example.com\" && git config --global user.name \"Nombre Apellidos\""
   ]
  },
  {
   "cell_type": "code",
   "execution_count": 3,
   "id": "0f2909c6",
   "metadata": {},
   "outputs": [],
   "source": [
    "cd"
   ]
  },
  {
   "cell_type": "markdown",
   "id": "5e7d0f2f",
   "metadata": {},
   "source": [
    "**LA SOLUCIÓN A CADA EJERCICIO CONSTA DE UN ÚNICO COMANDO**"
   ]
  },
  {
   "cell_type": "markdown",
   "id": "3db65e53",
   "metadata": {},
   "source": [
    "Duración: 1h. 50 preguntas."
   ]
  },
  {
   "cell_type": "markdown",
   "id": "6a5737ff",
   "metadata": {},
   "source": [
    "Crea un directorio llamado examen-fc en tu directorio de usuario"
   ]
  },
  {
   "cell_type": "code",
   "execution_count": 4,
   "id": "c9d05a8b",
   "metadata": {},
   "outputs": [],
   "source": [
    "mkdir -p examen-fc"
   ]
  },
  {
   "cell_type": "markdown",
   "id": "b8169b6c",
   "metadata": {},
   "source": [
    "Cambia al directorio que acabas de crear, usando una ruta relativa"
   ]
  },
  {
   "cell_type": "code",
   "execution_count": 5,
   "id": "0f74737f",
   "metadata": {},
   "outputs": [],
   "source": [
    "cd examen-fc"
   ]
  },
  {
   "cell_type": "markdown",
   "id": "7d8d8ca9",
   "metadata": {},
   "source": [
    "Crea en el directorio actual un fichero vacío llamado _empty_"
   ]
  },
  {
   "cell_type": "code",
   "execution_count": 6,
   "id": "f552ed75",
   "metadata": {},
   "outputs": [],
   "source": [
    "touch empty"
   ]
  },
  {
   "cell_type": "markdown",
   "id": "98254bc7",
   "metadata": {},
   "source": [
    "Utilizando **una ruta absoluta**, cambia al directorio _etc_ situado en el directorio raíz."
   ]
  },
  {
   "cell_type": "code",
   "execution_count": 7,
   "id": "ed7f2bd4",
   "metadata": {},
   "outputs": [],
   "source": [
    "cd /etc"
   ]
  },
  {
   "cell_type": "markdown",
   "id": "35e03ab8",
   "metadata": {},
   "source": [
    "Haz un **listado largo** de todos los ficheros del directorio actual cuyo nombre acabe por '.conf'"
   ]
  },
  {
   "cell_type": "code",
   "execution_count": 8,
   "id": "30c1bfe4",
   "metadata": {},
   "outputs": [
    {
     "name": "stdout",
     "output_type": "stream",
     "text": [
      "-rw-r--r-- 1 root root  3028 ago  9 13:48 adduser.conf\n",
      "-rw-r--r-- 1 root root   433 mar 23  2022 apg.conf\n",
      "-rw-r--r-- 1 root root   769 feb 22  2022 appstream.conf\n",
      "-rw-r--r-- 1 root root 29219 jun 28 17:25 brltty.conf\n",
      "-rw-r--r-- 1 root root  5529 ago  9 13:48 ca-certificates.conf\n",
      "-rw-r--r-- 1 root root  2969 feb 20  2022 debconf.conf\n",
      "-rw-r--r-- 1 root root   604 sep 16  2018 deluser.conf\n",
      "-rw-r--r-- 1 root root   685 ene  8  2022 e2scrub.conf\n",
      "-rw-r--r-- 1 root root    20 feb 24  2022 fprintd.conf\n",
      "-rw-r--r-- 1 root root   694 mar 23  2022 fuse.conf\n",
      "-rw-r--r-- 1 root root  2584 feb  3  2022 gai.conf\n",
      "-rw-r--r-- 1 root root  4436 dic 15  2020 hdparm.conf\n",
      "-rw-r--r-- 1 root root    92 oct 15  2021 host.conf\n",
      "-rw-r--r-- 1 root root   110 nov  8 15:53 kernel-img.conf\n",
      "-rw-r--r-- 1 root root  1308 mar 24  2022 kerneloops.conf\n",
      "-rw-r--r-- 1 root root    34 dic 16  2020 ld.so.conf\n",
      "-rw-r--r-- 1 root root    27 mar 13  2022 libao.conf\n",
      "-rw-r--r-- 1 root root   191 mar 17  2022 libaudit.conf\n",
      "-rw-r--r-- 1 root root   592 ene 24  2022 logrotate.conf\n",
      "-rw-r--r-- 1 root root   744 ene  8  2022 mke2fs.conf\n",
      "-rwxr-xr-x 1 root root   228 mar 23  2022 \u001b[0m\u001b[01;32mnftables.conf\u001b[0m\n",
      "-rw-r--r-- 1 root root   542 nov  8 15:54 nsswitch.conf\n",
      "-rw-r--r-- 1 root root   552 ago 12  2020 pam.conf\n",
      "-rw-r--r-- 1 root root  7649 ago  9 13:51 pnm2ppa.conf\n",
      "lrwxrwxrwx 1 root root    39 nov  8 15:52 \u001b[01;36mresolv.conf\u001b[0m -> ../run/systemd/resolve/stub-resolv.conf\n",
      "-rw-r--r-- 1 root root  1382 dic 24  2021 rsyslog.conf\n",
      "-rw-r--r-- 1 root root  5620 ene  9  2022 rygel.conf\n",
      "-rw-r--r-- 1 root root 10593 mar 31  2022 sensors3.conf\n",
      "-rw-r--r-- 1 root root  4573 feb 14  2022 sudo.conf\n",
      "-rw-r--r-- 1 root root  9390 feb 14  2022 sudo_logsrvd.conf\n",
      "-rw-r--r-- 1 root root  2355 feb 25  2022 sysctl.conf\n",
      "-rw-r--r-- 1 root root  1260 jun 16  2020 ucf.conf\n",
      "-rw-r--r-- 1 root root  1523 mar 25  2022 usb_modeswitch.conf\n",
      "-rw-r--r-- 1 root root   681 mar 23  2022 xattr.conf\n"
     ]
    }
   ],
   "source": [
    "ls -l *.conf"
   ]
  },
  {
   "cell_type": "markdown",
   "id": "c8816c5e",
   "metadata": {},
   "source": [
    "Regresa a tu directorio personal"
   ]
  },
  {
   "cell_type": "code",
   "execution_count": 9,
   "id": "97a0666a",
   "metadata": {},
   "outputs": [],
   "source": [
    "cd"
   ]
  },
  {
   "cell_type": "markdown",
   "id": "30cc483a",
   "metadata": {},
   "source": [
    "Ejecuta la siguiente celda para crear un fichero llamado _sleep5.c_ con el siguiente código C:"
   ]
  },
  {
   "cell_type": "code",
   "execution_count": 10,
   "id": "0e4947e6",
   "metadata": {
    "code_folding": []
   },
   "outputs": [],
   "source": [
    "cat << EOF > sleep5.c\n",
    "#include <stdio.h>\n",
    "#include <unistd.h>\n",
    "\n",
    "int main(void) {\n",
    "    int i;\n",
    "    printf(\"Durmiendo 5 segundos...\\n\");\n",
    "    for(i = 0; i < 5; ++i) {\n",
    "        sleep(1);\n",
    "    }\n",
    "}\n",
    "EOF"
   ]
  },
  {
   "cell_type": "markdown",
   "id": "607a1c3d",
   "metadata": {},
   "source": [
    "Compila dicho programa para generar un fichero ejecutable llamado _sleep5_ **enlazado dinámicamente**."
   ]
  },
  {
   "cell_type": "code",
   "execution_count": 11,
   "id": "9dc730a4",
   "metadata": {},
   "outputs": [],
   "source": [
    "gcc sleep5.c -o sleep5"
   ]
  },
  {
   "cell_type": "markdown",
   "id": "e3631bc1",
   "metadata": {},
   "source": [
    "Compila dicho programa para generar un fichero ejecutable llamado _sleep5-static_ **enlazado estáticamente**."
   ]
  },
  {
   "cell_type": "code",
   "execution_count": 12,
   "id": "a97b7819",
   "metadata": {},
   "outputs": [],
   "source": [
    "gcc -static sleep5.c -o sleep5-static"
   ]
  },
  {
   "cell_type": "markdown",
   "id": "67f04dcb",
   "metadata": {},
   "source": [
    "Haz un listado largo que muestre todos los ficheros del directorio actual cuyo nombre empieza por 'sleep'."
   ]
  },
  {
   "cell_type": "code",
   "execution_count": 13,
   "id": "24df7be4",
   "metadata": {},
   "outputs": [
    {
     "name": "stdout",
     "output_type": "stream",
     "text": [
      "-rwxrwxr-x 1 rtitos rtitos  16000 nov  8 21:07 \u001b[0m\u001b[01;32msleep5\u001b[0m\n",
      "-rw-rw-r-- 1 rtitos rtitos    164 nov  8 21:07 sleep5.c\n",
      "-rwxrwxr-x 1 rtitos rtitos 900488 nov  8 21:07 \u001b[01;32msleep5-static\u001b[0m\n"
     ]
    }
   ],
   "source": [
    "ls -l sleep*"
   ]
  },
  {
   "cell_type": "markdown",
   "id": "9704cc49",
   "metadata": {},
   "source": [
    "Comenta brevemente la razón detrás de la diferencia que se observa en el tamaño de ambos ficheros ejecutables."
   ]
  },
  {
   "cell_type": "markdown",
   "id": "17e3b7c6",
   "metadata": {},
   "source": [
    "Respuesta: "
   ]
  },
  {
   "cell_type": "code",
   "execution_count": 14,
   "id": "ae5ceb21",
   "metadata": {},
   "outputs": [
    {
     "name": "stdout",
     "output_type": "stream",
     "text": [
      "execve(\"./sleep5-static\", [\"./sleep5-static\"], 0x7ffc31daea20 /* 48 vars */) = 0\n",
      "arch_prctl(0x3001 /* ARCH_??? */, 0x7ffedc82a840) = -1 EINVAL (Argumento inválido)\n",
      "brk(NULL)                               = 0xb28000\n",
      "brk(0xb28dc0)                           = 0xb28dc0\n",
      "arch_prctl(ARCH_SET_FS, 0xb283c0)       = 0\n",
      "set_tid_address(0xb28690)               = 8263\n",
      "set_robust_list(0xb286a0, 24)           = 0\n",
      "rseq(0xb28d60, 0x20, 0, 0x53053053)     = 0\n",
      "uname({sysname=\"Linux\", nodename=\"rtitos-UX425EA\", ...}) = 0\n",
      "prlimit64(0, RLIMIT_STACK, NULL, {rlim_cur=8192*1024, rlim_max=RLIM64_INFINITY}) = 0\n",
      "readlink(\"/proc/self/exe\", \"/home/rtitos/sleep5-static\", 4096) = 26\n",
      "getrandom(\"\\x59\\xa3\\x8e\\x96\\xec\\xcc\\x30\\xd3\", 8, GRND_NONBLOCK) = 8\n",
      "brk(0xb49dc0)                           = 0xb49dc0\n",
      "brk(0xb4a000)                           = 0xb4a000\n",
      "mprotect(0x4c1000, 16384, PROT_READ)    = 0\n",
      "newfstatat(1, \"\", {st_mode=S_IFCHR|0620, st_rdev=makedev(0x88, 0x4), ...}, AT_EMPTY_PATH) = 0\n",
      "write(1, \"Durmiendo 5 segundos...\\n\", 24Durmiendo 5 segundos...\n",
      ") = 24\n",
      "clock_nanosleep(CLOCK_REALTIME, 0, {tv_sec=1, tv_nsec=0}, 0x7ffedc82a680) = 0\n",
      "clock_nanosleep(CLOCK_REALTIME, 0, {tv_sec=1, tv_nsec=0}, 0x7ffedc82a680) = 0\n",
      "clock_nanosleep(CLOCK_REALTIME, 0, {tv_sec=1, tv_nsec=0}, 0x7ffedc82a680) = 0\n",
      "clock_nanosleep(CLOCK_REALTIME, 0, {tv_sec=1, tv_nsec=0}, 0x7ffedc82a680) = 0\n",
      "clock_nanosleep(CLOCK_REALTIME, 0, {tv_sec=1, tv_nsec=0}, 0x7ffedc82a680) = 0\n",
      "exit_group(0)                           = ?\n",
      "+++ exited with 0 +++\n"
     ]
    }
   ],
   "source": [
    "strace ./sleep5-static"
   ]
  },
  {
   "cell_type": "markdown",
   "id": "30efc032",
   "metadata": {},
   "source": [
    "A la vista del código del programa _sleep.c_, ¿cuántas llamadas al sistema resultan de la ejecución del bucle \"for\"? ¿Qué función de la biblioteca de C realiza las llamadas al sistema en dicho bucle, y cuál es el nombre de dicha llamada?"
   ]
  },
  {
   "cell_type": "markdown",
   "id": "cd7ed769",
   "metadata": {},
   "source": [
    "Respuesta:"
   ]
  },
  {
   "cell_type": "markdown",
   "id": "f3ee741c",
   "metadata": {},
   "source": [
    "Ejecuta el siguiente comando para generar un fichero de código Python."
   ]
  },
  {
   "cell_type": "code",
   "execution_count": 15,
   "id": "b4d21386",
   "metadata": {},
   "outputs": [],
   "source": [
    "cat << EOF > np.py\n",
    "import numpy as np\n",
    "a = np.arange(1,10)\n",
    "print(a)\n",
    "EOF"
   ]
  },
  {
   "cell_type": "markdown",
   "id": "54d104a0",
   "metadata": {},
   "source": [
    "Crea un entorno virtual de Python llamado 'fc-env'."
   ]
  },
  {
   "cell_type": "code",
   "execution_count": 16,
   "id": "5ad5bc36",
   "metadata": {},
   "outputs": [],
   "source": [
    "python3 -m venv fc-env"
   ]
  },
  {
   "cell_type": "markdown",
   "id": "580c613e",
   "metadata": {},
   "source": [
    "Activa el entorno virtual recién creado, muestra la lista de paquetes instalados en dicho entorno y finalmente desactívalo. NOTA: Debes indicar todos los comandos en la misma celda, debidamente separados por \";\"."
   ]
  },
  {
   "cell_type": "code",
   "execution_count": 17,
   "id": "41bbba68",
   "metadata": {},
   "outputs": [
    {
     "name": "stdout",
     "output_type": "stream",
     "text": [
      "Package    Version\n",
      "---------- -------\n",
      "pip        22.0.2\n",
      "setuptools 59.6.0\n"
     ]
    }
   ],
   "source": [
    "source fc-env/bin/activate ; pip3 list; deactivate"
   ]
  },
  {
   "cell_type": "markdown",
   "id": "26d165e1",
   "metadata": {},
   "source": [
    "Modifica el comando anterior para, tras activar el entorno virtual 'fc-env', ejecutar en modo programa (no interactivo) el fichero _np.py_ que has generado anteriormente. NOTA: Debes indicar todos los comandos en la misma celda, debidamente separados por \";\"."
   ]
  },
  {
   "cell_type": "code",
   "execution_count": 18,
   "id": "8c41fbcf",
   "metadata": {},
   "outputs": [
    {
     "name": "stdout",
     "output_type": "stream",
     "text": [
      "Traceback (most recent call last):\n",
      "  File \"/home/rtitos/np.py\", line 1, in <module>\n",
      "    import numpy as np\n",
      "ModuleNotFoundError: No module named 'numpy'\n"
     ]
    }
   ],
   "source": [
    "source fc-env/bin/activate ; python3 np.py; deactivate"
   ]
  },
  {
   "cell_type": "markdown",
   "id": "719385b4",
   "metadata": {},
   "source": [
    "Modifica el comando anterior para satisfacer las dependencias de forma que _np.py_ se pueda ejecutar correctamente dentro del entorno virtual. NOTA: Debes indicar todos los comandos en la misma celda, debidamente separados por \";\""
   ]
  },
  {
   "cell_type": "code",
   "execution_count": 19,
   "id": "8cd306a1",
   "metadata": {},
   "outputs": [
    {
     "name": "stdout",
     "output_type": "stream",
     "text": [
      "Collecting numpy\n",
      "  Using cached numpy-1.23.4-cp310-cp310-manylinux_2_17_x86_64.manylinux2014_x86_64.whl (17.1 MB)\n",
      "Installing collected packages: numpy\n",
      "Successfully installed numpy-1.23.4\n",
      "[1 2 3 4 5 6 7 8 9]\n"
     ]
    }
   ],
   "source": [
    "source fc-env/bin/activate ; pip3 install numpy; python3 np.py; deactivate"
   ]
  },
  {
   "cell_type": "markdown",
   "id": "7af8588c",
   "metadata": {},
   "source": [
    "Elimina el entorno virtual 'fc-env'"
   ]
  },
  {
   "cell_type": "code",
   "execution_count": 20,
   "id": "bd0d1da1",
   "metadata": {},
   "outputs": [],
   "source": [
    "rm -rf fc-env"
   ]
  }
 ],
 "metadata": {
  "kernelspec": {
   "display_name": "Bash",
   "language": "bash",
   "name": "bash"
  },
  "language_info": {
   "codemirror_mode": "shell",
   "file_extension": ".sh",
   "mimetype": "text/x-sh",
   "name": "bash"
  },
  "toc": {
   "base_numbering": 1,
   "nav_menu": {},
   "number_sections": true,
   "sideBar": true,
   "skip_h1_title": false,
   "title_cell": "Table of Contents",
   "title_sidebar": "Contents",
   "toc_cell": false,
   "toc_position": {},
   "toc_section_display": true,
   "toc_window_display": false
  }
 },
 "nbformat": 4,
 "nbformat_minor": 5
}
