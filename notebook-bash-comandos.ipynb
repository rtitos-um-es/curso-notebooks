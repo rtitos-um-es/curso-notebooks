{
 "cells": [
  {
   "cell_type": "markdown",
   "id": "c3be691b",
   "metadata": {},
   "source": [
    "# Modelo de examen de Prácticas - Fundamentos de Computadores\n",
    "\n",
    "_Grado en Ciencia e Ingeniería de Datos - Facultad de Informática - Universidad de Murcia_\n"
   ]
  },
  {
   "cell_type": "markdown",
   "id": "aa4bc778",
   "metadata": {},
   "source": [
    "El notebook de la tarea debería haber instalado el kernel de Bash usando los siguientes comandos. En caso de que no aparezca _Bash_ en el menú de selección de kernel, prueba a recargar la página web."
   ]
  },
  {
   "cell_type": "code",
   "execution_count": 1,
   "id": "80ffe460",
   "metadata": {},
   "outputs": [],
   "source": [
    "#pip3 install bash_kernel && python3 -m bash_kernel.install"
   ]
  },
  {
   "cell_type": "code",
   "execution_count": null,
   "id": "4fdc7288",
   "metadata": {},
   "outputs": [],
   "source": [
    "git config --global user.email \"you@example.com\" && git config --global user.name \"Nombre Apellidos\""
   ]
  },
  {
   "cell_type": "code",
   "execution_count": null,
   "id": "0f2909c6",
   "metadata": {},
   "outputs": [],
   "source": [
    "cd"
   ]
  },
  {
   "cell_type": "markdown",
   "id": "5e7d0f2f",
   "metadata": {},
   "source": [
    "**LA SOLUCIÓN A CADA EJERCICIO CONSTA DE UN ÚNICO COMANDO**"
   ]
  },
  {
   "cell_type": "markdown",
   "id": "3db65e53",
   "metadata": {},
   "source": [
    "Duración: 1h. 50 preguntas."
   ]
  },
  {
   "cell_type": "markdown",
   "id": "6a5737ff",
   "metadata": {},
   "source": [
    "Crea un directorio llamado examen-fc en tu directorio de usuario"
   ]
  },
  {
   "cell_type": "code",
   "execution_count": null,
   "id": "c9d05a8b",
   "metadata": {},
   "outputs": [],
   "source": [
    "mkdir -p examen-fc"
   ]
  },
  {
   "cell_type": "markdown",
   "id": "b8169b6c",
   "metadata": {},
   "source": [
    "Cambia al directorio que acabas de crear, usando una ruta relativa"
   ]
  },
  {
   "cell_type": "code",
   "execution_count": null,
   "id": "0f74737f",
   "metadata": {},
   "outputs": [],
   "source": [
    "cd examen-fc"
   ]
  },
  {
   "cell_type": "markdown",
   "id": "7d8d8ca9",
   "metadata": {},
   "source": [
    "Crea en el directorio actual un fichero vacío llamado _empty_"
   ]
  },
  {
   "cell_type": "code",
   "execution_count": null,
   "id": "f552ed75",
   "metadata": {},
   "outputs": [],
   "source": [
    "touch empty"
   ]
  },
  {
   "cell_type": "markdown",
   "id": "98254bc7",
   "metadata": {},
   "source": [
    "Utilizando **una ruta absoluta**, cambia al directorio _etc_ situado en el directorio raíz."
   ]
  },
  {
   "cell_type": "code",
   "execution_count": null,
   "id": "ed7f2bd4",
   "metadata": {},
   "outputs": [],
   "source": [
    "cd /etc"
   ]
  },
  {
   "cell_type": "markdown",
   "id": "35e03ab8",
   "metadata": {},
   "source": [
    "Haz un **listado largo** de todos los ficheros del directorio actual cuyo nombre acabe por '.conf'"
   ]
  },
  {
   "cell_type": "code",
   "execution_count": null,
   "id": "30c1bfe4",
   "metadata": {},
   "outputs": [],
   "source": [
    "ls -l *.conf"
   ]
  },
  {
   "cell_type": "markdown",
   "id": "c8816c5e",
   "metadata": {},
   "source": [
    "Regresa a tu directorio personal"
   ]
  },
  {
   "cell_type": "code",
   "execution_count": null,
   "id": "97a0666a",
   "metadata": {},
   "outputs": [],
   "source": [
    "cd"
   ]
  },
  {
   "cell_type": "markdown",
   "id": "30cc483a",
   "metadata": {},
   "source": [
    "Ejecuta la siguiente celda para crear un fichero llamado _sleep5.c_ con el siguiente código C:"
   ]
  },
  {
   "cell_type": "code",
   "execution_count": null,
   "id": "0e4947e6",
   "metadata": {
    "code_folding": []
   },
   "outputs": [],
   "source": [
    "cat << EOF > sleep5.c\n",
    "#include <stdio.h>\n",
    "#include <unistd.h>\n",
    "\n",
    "int main(void) {\n",
    "    int i;\n",
    "    printf(\"Durmiendo 5 segundos...\\n\");\n",
    "    for(i = 0; i < 5; ++i) {\n",
    "        sleep(1);\n",
    "    }\n",
    "}\n",
    "EOF"
   ]
  },
  {
   "cell_type": "markdown",
   "id": "607a1c3d",
   "metadata": {},
   "source": [
    "Compila dicho programa para generar un fichero ejecutable llamado _sleep5_ **enlazado dinámicamente**."
   ]
  },
  {
   "cell_type": "code",
   "execution_count": null,
   "id": "9dc730a4",
   "metadata": {},
   "outputs": [],
   "source": [
    "gcc sleep5.c -o sleep5"
   ]
  },
  {
   "cell_type": "markdown",
   "id": "e3631bc1",
   "metadata": {},
   "source": [
    "Compila dicho programa para generar un fichero ejecutable llamado _sleep5-static_ **enlazado estáticamente**."
   ]
  },
  {
   "cell_type": "code",
   "execution_count": null,
   "id": "a97b7819",
   "metadata": {},
   "outputs": [],
   "source": [
    "gcc -static sleep5.c -o sleep5-static"
   ]
  },
  {
   "cell_type": "markdown",
   "id": "67f04dcb",
   "metadata": {},
   "source": [
    "Haz un listado largo que muestre todos los ficheros del directorio actual cuyo nombre empieza por 'sleep'."
   ]
  },
  {
   "cell_type": "code",
   "execution_count": null,
   "id": "24df7be4",
   "metadata": {},
   "outputs": [],
   "source": [
    "ls -l sleep*"
   ]
  },
  {
   "cell_type": "markdown",
   "id": "9704cc49",
   "metadata": {},
   "source": [
    "Comenta brevemente la razón detrás de la diferencia que se observa en el tamaño de ambos ficheros ejecutables."
   ]
  },
  {
   "cell_type": "markdown",
   "id": "17e3b7c6",
   "metadata": {},
   "source": [
    "Respuesta: "
   ]
  },
  {
   "cell_type": "markdown",
   "id": "f3ee741c",
   "metadata": {},
   "source": [
    "Ejecuta el siguiente comando para generar un fichero de código Python."
   ]
  },
  {
   "cell_type": "code",
   "execution_count": null,
   "id": "b4d21386",
   "metadata": {},
   "outputs": [],
   "source": [
    "cat << EOF > np.py\n",
    "import numpy as np\n",
    "a = np.arange(1,10)\n",
    "print(a)\n",
    "EOF"
   ]
  },
  {
   "cell_type": "markdown",
   "id": "54d104a0",
   "metadata": {},
   "source": [
    "Crea un entorno virtual de Python llamado 'fc-env'."
   ]
  },
  {
   "cell_type": "code",
   "execution_count": null,
   "id": "5ad5bc36",
   "metadata": {},
   "outputs": [],
   "source": [
    "python3 -m venv fc-env"
   ]
  },
  {
   "cell_type": "markdown",
   "id": "580c613e",
   "metadata": {},
   "source": [
    "Activa el entorno virtual recién creado, muestra la lista de paquetes instalados en dicho entorno y finalmente desactívalo. NOTA: Debes indicar todos los comandos en la misma celda, debidamente separados por \";\"."
   ]
  },
  {
   "cell_type": "code",
   "execution_count": null,
   "id": "41bbba68",
   "metadata": {},
   "outputs": [],
   "source": [
    "source fc-env/bin/activate ; pip3 list; deactivate"
   ]
  },
  {
   "cell_type": "markdown",
   "id": "26d165e1",
   "metadata": {},
   "source": [
    "Modifica el comando anterior para, tras activar el entorno virtual 'fc-env', ejecutar en modo programa (no interactivo) el fichero _np.py_ que has generado anteriormente. NOTA: Debes indicar todos los comandos en la misma celda, debidamente separados por \";\"."
   ]
  },
  {
   "cell_type": "code",
   "execution_count": null,
   "id": "8c41fbcf",
   "metadata": {},
   "outputs": [],
   "source": [
    "source fc-env/bin/activate ; python3 np.py; deactivate"
   ]
  },
  {
   "cell_type": "markdown",
   "id": "b7911ca3",
   "metadata": {},
   "source": [
    "Explica brevemente por qué el programa no puede ejecutarse correctamente."
   ]
  },
  {
   "cell_type": "markdown",
   "id": "45991e74",
   "metadata": {},
   "source": [
    "Respuesta:"
   ]
  },
  {
   "cell_type": "markdown",
   "id": "719385b4",
   "metadata": {},
   "source": [
    "Modifica el comando anterior para satisfacer las dependencias de forma que _np.py_ se pueda ejecutar correctamente dentro del entorno virtual. NOTA: Debes indicar todos los comandos en la misma celda, debidamente separados por \";\""
   ]
  },
  {
   "cell_type": "code",
   "execution_count": null,
   "id": "8cd306a1",
   "metadata": {},
   "outputs": [],
   "source": [
    "source fc-env/bin/activate ; pip3 install numpy; python3 np.py; deactivate"
   ]
  },
  {
   "cell_type": "markdown",
   "id": "7af8588c",
   "metadata": {},
   "source": [
    "Elimina el entorno virtual 'fc-env'"
   ]
  },
  {
   "cell_type": "code",
   "execution_count": null,
   "id": "bd0d1da1",
   "metadata": {},
   "outputs": [],
   "source": [
    "rm -rf fc-env"
   ]
  }
 ],
 "metadata": {
  "kernelspec": {
   "display_name": "Bash",
   "language": "bash",
   "name": "bash"
  },
  "language_info": {
   "codemirror_mode": "shell",
   "file_extension": ".sh",
   "mimetype": "text/x-sh",
   "name": "bash"
  },
  "toc": {
   "base_numbering": 1,
   "nav_menu": {},
   "number_sections": true,
   "sideBar": true,
   "skip_h1_title": false,
   "title_cell": "Table of Contents",
   "title_sidebar": "Contents",
   "toc_cell": false,
   "toc_position": {},
   "toc_section_display": true,
   "toc_window_display": false
  }
 },
 "nbformat": 4,
 "nbformat_minor": 5
}
